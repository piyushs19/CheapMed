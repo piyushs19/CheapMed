{
 "cells": [
  {
   "cell_type": "code",
   "execution_count": 1,
   "metadata": {},
   "outputs": [],
   "source": [
    "import pandas as pd\n",
    "import numpy as np\n",
    "from bs4 import BeautifulSoup\n",
    "import requests\n",
    "from selenium import webdriver\n",
    "from selenium.webdriver.chrome.options import Options\n",
    "from IPython.display import Markdown, display\n",
    "import matplotlib.pyplot as plt\n",
    "def printmd(string):\n",
    "    display(Markdown(string))"
   ]
  },
  {
   "cell_type": "code",
   "execution_count": 2,
   "metadata": {},
   "outputs": [
    {
     "name": "stdout",
     "output_type": "stream",
     "text": [
      "dolo 650\n"
     ]
    }
   ],
   "source": [
    "item_name = []\n",
    "prices = []\n",
    "links = []\n",
    "name = input()\n",
    "search = name.replace(\" \", \"+\")"
   ]
  },
  {
   "cell_type": "code",
   "execution_count": 3,
   "metadata": {},
   "outputs": [],
   "source": [
    "options = webdriver.ChromeOptions()\n",
    "options.add_argument('--headless') \n",
    "options.add_argument('start-maximized') \n",
    "options.add_argument('disable-infobars')\n",
    "options.add_argument('--disable-extensions')\n",
    "webdriver_path = \"C:\\\\Users\\\\piyus\\\\Downloads\\\\chromedriver.exe\"\n",
    "driver = webdriver.Chrome(webdriver_path, options=options)"
   ]
  },
  {
   "cell_type": "code",
   "execution_count": 4,
   "metadata": {},
   "outputs": [
    {
     "data": {
      "text/markdown": [
       "__NETMEDS.COM__\n"
      ],
      "text/plain": [
       "<IPython.core.display.Markdown object>"
      ]
     },
     "metadata": {},
     "output_type": "display_data"
    },
    {
     "name": "stdout",
     "output_type": "stream",
     "text": [
      "Name: Dolo 650mg Tablet 15'S\n",
      "Price: ₹ 30.24\n",
      "Link: https://www.netmeds.com/prescriptions/dolo-650mg-tablet-15-s\n"
     ]
    }
   ],
   "source": [
    "driver.get(\"https://www.netmeds.com/catalogsearch/result?q=\" + search)\n",
    "soup = BeautifulSoup(driver.page_source, 'html.parser')\n",
    "printmd(\"__NETMEDS.COM__\\n\")\n",
    "nm_name = soup.find(\"div\", attrs = {'class': 'info'}).text.strip()\n",
    "nm_price = soup.find(\"div\", attrs = {'class': 'pricebox'}).text.strip().replace(\"Rs.\", \"₹ \")\n",
    "nm_link = \"Link: https://www.netmeds.com\" + soup.find(\"div\", attrs = {\"class\": \"drug_c\"}).a['href']\n",
    "item_name.append(nm_name + \"\\n(Netmeds.com)\")\n",
    "prices.append(float(nm_price[2:]))\n",
    "links.append(nm_link)\n",
    "print(\"Name: \" + nm_name)\n",
    "print(\"Price: \" + nm_price)\n",
    "print(nm_link)"
   ]
  },
  {
   "cell_type": "code",
   "execution_count": 5,
   "metadata": {},
   "outputs": [
    {
     "name": "stdout",
     "output_type": "stream",
     "text": [
      "\n",
      "\n"
     ]
    }
   ],
   "source": [
    "print(\"\\n\")"
   ]
  },
  {
   "cell_type": "code",
   "execution_count": 6,
   "metadata": {},
   "outputs": [
    {
     "data": {
      "text/markdown": [
       "__1MG.COM__\n"
      ],
      "text/plain": [
       "<IPython.core.display.Markdown object>"
      ]
     },
     "metadata": {},
     "output_type": "display_data"
    },
    {
     "name": "stdout",
     "output_type": "stream",
     "text": [
      "Name: Dolo 650 Tablet\n",
      "Price: ₹ 30.74\n",
      "Link: https://www.1mg.com/drugs/dolo-650-tablet-74467\n"
     ]
    }
   ],
   "source": [
    "driver.get(\"https://www.1mg.com/search/all?name=\" + search)\n",
    "soup = BeautifulSoup(driver.page_source, 'html.parser')\n",
    "printmd(\"__1MG.COM__\\n\")\n",
    "mg_name = soup.find(\"span\", attrs = {'class': 'style__pro-title___3zxNC'}).text.strip()\n",
    "mg_price = soup.find(\"div\", attrs = {'class': \"style__price-tag___B2csA\"}).text.strip().replace(\"MRP₹\",\"₹ \")\n",
    "if( mg_price[-3] != \".\" and mg_price[-2] != \".\"):\n",
    "    mg_price  += \".00\"\n",
    "if(mg_price[-2] == \".\"):\n",
    "    mg_price += \"0\"\n",
    "mg_link = \"Link: https://www.1mg.com\" + soup.find(\"div\", attrs = {\"class\": \"style__horizontal-card___1Zwmt\"}).a['href']\n",
    "item_name.append(mg_name + \"\\n(1mg.com)\")\n",
    "prices.append(float(mg_price[2:]))\n",
    "links.append(mg_link)\n",
    "print(\"Name: \" + mg_name)\n",
    "print(\"Price: \" + mg_price)\n",
    "print(mg_link)"
   ]
  },
  {
   "cell_type": "code",
   "execution_count": 7,
   "metadata": {},
   "outputs": [
    {
     "name": "stdout",
     "output_type": "stream",
     "text": [
      "\n",
      "\n"
     ]
    }
   ],
   "source": [
    "print(\"\\n\")"
   ]
  },
  {
   "cell_type": "code",
   "execution_count": 8,
   "metadata": {},
   "outputs": [
    {
     "data": {
      "image/png": "[encoded data removed]",
      "text/plain": [
       "<Figure size 432x288 with 1 Axes>"
      ]
     },
     "metadata": {
      "needs_background": "light"
     },
     "output_type": "display_data"
    }
   ],
   "source": [
    "plt.bar(item_name, prices) \n",
    "plt.xlabel(\"Medicine Name\") \n",
    "plt.ylabel(\"MRP (in ₹)\") \n",
    "plt.title(\"Price of \" + name + \" on different websites\") \n",
    "plt.show() "
   ]
  }
 ],
 "metadata": {
  "kernelspec": {
   "display_name": "Python 3",
   "language": "python",
   "name": "python3"
  },
  "language_info": {
   "codemirror_mode": {
    "name": "ipython",
    "version": 3
   },
   "file_extension": ".py",
   "mimetype": "text/x-python",
   "name": "python",
   "nbconvert_exporter": "python",
   "pygments_lexer": "ipython3",
   "version": "3.7.4"
  }
 },
 "nbformat": 4,
 "nbformat_minor": 2
}
